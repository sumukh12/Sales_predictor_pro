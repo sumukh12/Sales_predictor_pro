{
 "cells": [
  {
   "cell_type": "code",
   "execution_count": 195,
   "id": "607fe02c",
   "metadata": {},
   "outputs": [],
   "source": [
    "#import Dataframe libraries\n",
    "import pandas as pd\n",
    "import numpy  as np\n",
    "#Importing visiulization libraries\n",
    "import seaborn as sns\n",
    "%matplotlib inline\n",
    "import matplotlib.pyplot as plt\n",
    "#import warning\n",
    "import warnings\n",
    "warnings.filterwarnings('ignore')"
   ]
  },
  {
   "cell_type": "code",
   "execution_count": 196,
   "id": "d9f0e1bd",
   "metadata": {},
   "outputs": [],
   "source": [
    "#Getting the data\n",
    "df=pd.read_csv('trial.csv')"
   ]
  },
  {
   "cell_type": "code",
   "execution_count": 197,
   "id": "2ce15e77",
   "metadata": {},
   "outputs": [
    {
     "data": {
      "text/html": [
       "<div>\n",
       "<style scoped>\n",
       "    .dataframe tbody tr th:only-of-type {\n",
       "        vertical-align: middle;\n",
       "    }\n",
       "\n",
       "    .dataframe tbody tr th {\n",
       "        vertical-align: top;\n",
       "    }\n",
       "\n",
       "    .dataframe thead th {\n",
       "        text-align: right;\n",
       "    }\n",
       "</style>\n",
       "<table border=\"1\" class=\"dataframe\">\n",
       "  <thead>\n",
       "    <tr style=\"text-align: right;\">\n",
       "      <th></th>\n",
       "      <th>Year</th>\n",
       "      <th>No</th>\n",
       "    </tr>\n",
       "  </thead>\n",
       "  <tbody>\n",
       "    <tr>\n",
       "      <th>0</th>\n",
       "      <td>201601</td>\n",
       "      <td>50.0</td>\n",
       "    </tr>\n",
       "    <tr>\n",
       "      <th>1</th>\n",
       "      <td>201602</td>\n",
       "      <td>10.0</td>\n",
       "    </tr>\n",
       "    <tr>\n",
       "      <th>2</th>\n",
       "      <td>201603</td>\n",
       "      <td>21.0</td>\n",
       "    </tr>\n",
       "    <tr>\n",
       "      <th>3</th>\n",
       "      <td>201604</td>\n",
       "      <td>81.0</td>\n",
       "    </tr>\n",
       "    <tr>\n",
       "      <th>4</th>\n",
       "      <td>201605</td>\n",
       "      <td>NaN</td>\n",
       "    </tr>\n",
       "  </tbody>\n",
       "</table>\n",
       "</div>"
      ],
      "text/plain": [
       "     Year    No\n",
       "0  201601  50.0\n",
       "1  201602  10.0\n",
       "2  201603  21.0\n",
       "3  201604  81.0\n",
       "4  201605   NaN"
      ]
     },
     "execution_count": 197,
     "metadata": {},
     "output_type": "execute_result"
    }
   ],
   "source": [
    "#showing the first 5 row\n",
    "df.head()"
   ]
  },
  {
   "cell_type": "code",
   "execution_count": 198,
   "id": "150e6d2a",
   "metadata": {},
   "outputs": [
    {
     "data": {
      "text/html": [
       "<div>\n",
       "<style scoped>\n",
       "    .dataframe tbody tr th:only-of-type {\n",
       "        vertical-align: middle;\n",
       "    }\n",
       "\n",
       "    .dataframe tbody tr th {\n",
       "        vertical-align: top;\n",
       "    }\n",
       "\n",
       "    .dataframe thead th {\n",
       "        text-align: right;\n",
       "    }\n",
       "</style>\n",
       "<table border=\"1\" class=\"dataframe\">\n",
       "  <thead>\n",
       "    <tr style=\"text-align: right;\">\n",
       "      <th></th>\n",
       "      <th>Year</th>\n",
       "      <th>No</th>\n",
       "    </tr>\n",
       "  </thead>\n",
       "  <tbody>\n",
       "    <tr>\n",
       "      <th>85</th>\n",
       "      <td>202302</td>\n",
       "      <td>1471.0</td>\n",
       "    </tr>\n",
       "    <tr>\n",
       "      <th>86</th>\n",
       "      <td>202303</td>\n",
       "      <td>704.0</td>\n",
       "    </tr>\n",
       "    <tr>\n",
       "      <th>87</th>\n",
       "      <td>202304</td>\n",
       "      <td>1134.0</td>\n",
       "    </tr>\n",
       "    <tr>\n",
       "      <th>88</th>\n",
       "      <td>202305</td>\n",
       "      <td>1381.0</td>\n",
       "    </tr>\n",
       "    <tr>\n",
       "      <th>89</th>\n",
       "      <td>202306</td>\n",
       "      <td>936.0</td>\n",
       "    </tr>\n",
       "  </tbody>\n",
       "</table>\n",
       "</div>"
      ],
      "text/plain": [
       "      Year      No\n",
       "85  202302  1471.0\n",
       "86  202303   704.0\n",
       "87  202304  1134.0\n",
       "88  202305  1381.0\n",
       "89  202306   936.0"
      ]
     },
     "execution_count": 198,
     "metadata": {},
     "output_type": "execute_result"
    }
   ],
   "source": [
    "#show the last 5 row\n",
    "df.tail()"
   ]
  },
  {
   "cell_type": "code",
   "execution_count": 199,
   "id": "1135b100",
   "metadata": {},
   "outputs": [
    {
     "data": {
      "text/plain": [
       "Year    0\n",
       "No      2\n",
       "dtype: int64"
      ]
     },
     "execution_count": 199,
     "metadata": {},
     "output_type": "execute_result"
    }
   ],
   "source": [
    "#checking the missing value \n",
    "df.isnull().sum()"
   ]
  },
  {
   "cell_type": "markdown",
   "id": "a2b4cdcd",
   "metadata": {},
   "source": [
    "###### 1.There is missing value sales columns so we will fill with 0 value."
   ]
  },
  {
   "cell_type": "code",
   "execution_count": 200,
   "id": "fe303943",
   "metadata": {},
   "outputs": [
    {
     "data": {
      "text/plain": [
       "(90, 2)"
      ]
     },
     "execution_count": 200,
     "metadata": {},
     "output_type": "execute_result"
    }
   ],
   "source": [
    "#checking the shape\n",
    "df.shape"
   ]
  },
  {
   "cell_type": "markdown",
   "id": "16c0679c",
   "metadata": {},
   "source": [
    "###### 1.The data is 90 rows and two columns"
   ]
  },
  {
   "cell_type": "code",
   "execution_count": 201,
   "id": "f8df498f",
   "metadata": {},
   "outputs": [
    {
     "data": {
      "image/png": "[encoded data removed]",
      "text/plain": [
       "<Figure size 576x432 with 1 Axes>"
      ]
     },
     "metadata": {
      "needs_background": "light"
     },
     "output_type": "display_data"
    }
   ],
   "source": [
    "#showing in visiulization method\n",
    "plt.figure(figsize=(8,6))\n",
    "sns.heatmap(df.isnull(),yticklabels=False,cbar=False)\n",
    "plt.show()\n",
    "     "
   ]
  },
  {
   "cell_type": "code",
   "execution_count": 202,
   "id": "95a7040e",
   "metadata": {},
   "outputs": [],
   "source": [
    "#as this is sale will fill null value with zero\n",
    "df['No'].fillna(df['No'].mode()[0],inplace=True)"
   ]
  },
  {
   "cell_type": "markdown",
   "id": "d5538d83",
   "metadata": {},
   "source": [
    "##### We have fill the nan valuw with mode method as the data is sales we cant loose the data."
   ]
  },
  {
   "cell_type": "code",
   "execution_count": 203,
   "id": "a3b4e523",
   "metadata": {},
   "outputs": [
    {
     "data": {
      "text/html": [
       "<div>\n",
       "<style scoped>\n",
       "    .dataframe tbody tr th:only-of-type {\n",
       "        vertical-align: middle;\n",
       "    }\n",
       "\n",
       "    .dataframe tbody tr th {\n",
       "        vertical-align: top;\n",
       "    }\n",
       "\n",
       "    .dataframe thead th {\n",
       "        text-align: right;\n",
       "    }\n",
       "</style>\n",
       "<table border=\"1\" class=\"dataframe\">\n",
       "  <thead>\n",
       "    <tr style=\"text-align: right;\">\n",
       "      <th></th>\n",
       "      <th>Year</th>\n",
       "      <th>No</th>\n",
       "    </tr>\n",
       "  </thead>\n",
       "  <tbody>\n",
       "    <tr>\n",
       "      <th>0</th>\n",
       "      <td>201601</td>\n",
       "      <td>50.0</td>\n",
       "    </tr>\n",
       "    <tr>\n",
       "      <th>1</th>\n",
       "      <td>201602</td>\n",
       "      <td>10.0</td>\n",
       "    </tr>\n",
       "    <tr>\n",
       "      <th>2</th>\n",
       "      <td>201603</td>\n",
       "      <td>21.0</td>\n",
       "    </tr>\n",
       "    <tr>\n",
       "      <th>3</th>\n",
       "      <td>201604</td>\n",
       "      <td>81.0</td>\n",
       "    </tr>\n",
       "    <tr>\n",
       "      <th>4</th>\n",
       "      <td>201605</td>\n",
       "      <td>0.0</td>\n",
       "    </tr>\n",
       "    <tr>\n",
       "      <th>...</th>\n",
       "      <td>...</td>\n",
       "      <td>...</td>\n",
       "    </tr>\n",
       "    <tr>\n",
       "      <th>85</th>\n",
       "      <td>202302</td>\n",
       "      <td>1471.0</td>\n",
       "    </tr>\n",
       "    <tr>\n",
       "      <th>86</th>\n",
       "      <td>202303</td>\n",
       "      <td>704.0</td>\n",
       "    </tr>\n",
       "    <tr>\n",
       "      <th>87</th>\n",
       "      <td>202304</td>\n",
       "      <td>1134.0</td>\n",
       "    </tr>\n",
       "    <tr>\n",
       "      <th>88</th>\n",
       "      <td>202305</td>\n",
       "      <td>1381.0</td>\n",
       "    </tr>\n",
       "    <tr>\n",
       "      <th>89</th>\n",
       "      <td>202306</td>\n",
       "      <td>936.0</td>\n",
       "    </tr>\n",
       "  </tbody>\n",
       "</table>\n",
       "<p>90 rows × 2 columns</p>\n",
       "</div>"
      ],
      "text/plain": [
       "      Year      No\n",
       "0   201601    50.0\n",
       "1   201602    10.0\n",
       "2   201603    21.0\n",
       "3   201604    81.0\n",
       "4   201605     0.0\n",
       "..     ...     ...\n",
       "85  202302  1471.0\n",
       "86  202303   704.0\n",
       "87  202304  1134.0\n",
       "88  202305  1381.0\n",
       "89  202306   936.0\n",
       "\n",
       "[90 rows x 2 columns]"
      ]
     },
     "execution_count": 203,
     "metadata": {},
     "output_type": "execute_result"
    }
   ],
   "source": [
    "df"
   ]
  },
  {
   "cell_type": "code",
   "execution_count": 204,
   "id": "0acdb5bb",
   "metadata": {},
   "outputs": [],
   "source": [
    "#Lets rename the no coulumn\n",
    "df.rename(columns={'No':'No of Sales'},inplace=True)\n",
    "     "
   ]
  },
  {
   "cell_type": "code",
   "execution_count": 205,
   "id": "1beb099b",
   "metadata": {},
   "outputs": [
    {
     "data": {
      "text/html": [
       "<div>\n",
       "<style scoped>\n",
       "    .dataframe tbody tr th:only-of-type {\n",
       "        vertical-align: middle;\n",
       "    }\n",
       "\n",
       "    .dataframe tbody tr th {\n",
       "        vertical-align: top;\n",
       "    }\n",
       "\n",
       "    .dataframe thead th {\n",
       "        text-align: right;\n",
       "    }\n",
       "</style>\n",
       "<table border=\"1\" class=\"dataframe\">\n",
       "  <thead>\n",
       "    <tr style=\"text-align: right;\">\n",
       "      <th></th>\n",
       "      <th>Year</th>\n",
       "      <th>No of Sales</th>\n",
       "    </tr>\n",
       "  </thead>\n",
       "  <tbody>\n",
       "    <tr>\n",
       "      <th>0</th>\n",
       "      <td>201601</td>\n",
       "      <td>50.0</td>\n",
       "    </tr>\n",
       "    <tr>\n",
       "      <th>1</th>\n",
       "      <td>201602</td>\n",
       "      <td>10.0</td>\n",
       "    </tr>\n",
       "    <tr>\n",
       "      <th>2</th>\n",
       "      <td>201603</td>\n",
       "      <td>21.0</td>\n",
       "    </tr>\n",
       "    <tr>\n",
       "      <th>3</th>\n",
       "      <td>201604</td>\n",
       "      <td>81.0</td>\n",
       "    </tr>\n",
       "    <tr>\n",
       "      <th>4</th>\n",
       "      <td>201605</td>\n",
       "      <td>0.0</td>\n",
       "    </tr>\n",
       "    <tr>\n",
       "      <th>...</th>\n",
       "      <td>...</td>\n",
       "      <td>...</td>\n",
       "    </tr>\n",
       "    <tr>\n",
       "      <th>85</th>\n",
       "      <td>202302</td>\n",
       "      <td>1471.0</td>\n",
       "    </tr>\n",
       "    <tr>\n",
       "      <th>86</th>\n",
       "      <td>202303</td>\n",
       "      <td>704.0</td>\n",
       "    </tr>\n",
       "    <tr>\n",
       "      <th>87</th>\n",
       "      <td>202304</td>\n",
       "      <td>1134.0</td>\n",
       "    </tr>\n",
       "    <tr>\n",
       "      <th>88</th>\n",
       "      <td>202305</td>\n",
       "      <td>1381.0</td>\n",
       "    </tr>\n",
       "    <tr>\n",
       "      <th>89</th>\n",
       "      <td>202306</td>\n",
       "      <td>936.0</td>\n",
       "    </tr>\n",
       "  </tbody>\n",
       "</table>\n",
       "<p>90 rows × 2 columns</p>\n",
       "</div>"
      ],
      "text/plain": [
       "      Year  No of Sales\n",
       "0   201601         50.0\n",
       "1   201602         10.0\n",
       "2   201603         21.0\n",
       "3   201604         81.0\n",
       "4   201605          0.0\n",
       "..     ...          ...\n",
       "85  202302       1471.0\n",
       "86  202303        704.0\n",
       "87  202304       1134.0\n",
       "88  202305       1381.0\n",
       "89  202306        936.0\n",
       "\n",
       "[90 rows x 2 columns]"
      ]
     },
     "execution_count": 205,
     "metadata": {},
     "output_type": "execute_result"
    }
   ],
   "source": [
    "df"
   ]
  },
  {
   "cell_type": "code",
   "execution_count": 206,
   "id": "62d1e0f5",
   "metadata": {},
   "outputs": [
    {
     "name": "stdout",
     "output_type": "stream",
     "text": [
      "<class 'pandas.core.frame.DataFrame'>\n",
      "RangeIndex: 90 entries, 0 to 89\n",
      "Data columns (total 2 columns):\n",
      " #   Column       Non-Null Count  Dtype  \n",
      "---  ------       --------------  -----  \n",
      " 0   Year         90 non-null     int64  \n",
      " 1   No of Sales  90 non-null     float64\n",
      "dtypes: float64(1), int64(1)\n",
      "memory usage: 1.5 KB\n"
     ]
    }
   ],
   "source": [
    "df.info()"
   ]
  },
  {
   "cell_type": "code",
   "execution_count": 207,
   "id": "b0a482ed",
   "metadata": {},
   "outputs": [
    {
     "name": "stdout",
     "output_type": "stream",
     "text": [
      "<class 'pandas.core.frame.DataFrame'>\n",
      "RangeIndex: 90 entries, 0 to 89\n",
      "Data columns (total 2 columns):\n",
      " #   Column       Non-Null Count  Dtype  \n",
      "---  ------       --------------  -----  \n",
      " 0   Year         90 non-null     int64  \n",
      " 1   No of Sales  90 non-null     float64\n",
      "dtypes: float64(1), int64(1)\n",
      "memory usage: 1.5 KB\n"
     ]
    }
   ],
   "source": [
    "df.info()"
   ]
  },
  {
   "cell_type": "code",
   "execution_count": 208,
   "id": "4eb09e7d",
   "metadata": {},
   "outputs": [],
   "source": [
    "df['Year'] = pd.to_datetime(df['Year'])"
   ]
  },
  {
   "cell_type": "code",
   "execution_count": 209,
   "id": "747661d9",
   "metadata": {},
   "outputs": [
    {
     "data": {
      "text/html": [
       "<div>\n",
       "<style scoped>\n",
       "    .dataframe tbody tr th:only-of-type {\n",
       "        vertical-align: middle;\n",
       "    }\n",
       "\n",
       "    .dataframe tbody tr th {\n",
       "        vertical-align: top;\n",
       "    }\n",
       "\n",
       "    .dataframe thead th {\n",
       "        text-align: right;\n",
       "    }\n",
       "</style>\n",
       "<table border=\"1\" class=\"dataframe\">\n",
       "  <thead>\n",
       "    <tr style=\"text-align: right;\">\n",
       "      <th></th>\n",
       "      <th>Year</th>\n",
       "      <th>No of Sales</th>\n",
       "    </tr>\n",
       "  </thead>\n",
       "  <tbody>\n",
       "    <tr>\n",
       "      <th>0</th>\n",
       "      <td>1970-01-01 00:00:00.000201601</td>\n",
       "      <td>50.0</td>\n",
       "    </tr>\n",
       "    <tr>\n",
       "      <th>1</th>\n",
       "      <td>1970-01-01 00:00:00.000201602</td>\n",
       "      <td>10.0</td>\n",
       "    </tr>\n",
       "    <tr>\n",
       "      <th>2</th>\n",
       "      <td>1970-01-01 00:00:00.000201603</td>\n",
       "      <td>21.0</td>\n",
       "    </tr>\n",
       "    <tr>\n",
       "      <th>3</th>\n",
       "      <td>1970-01-01 00:00:00.000201604</td>\n",
       "      <td>81.0</td>\n",
       "    </tr>\n",
       "    <tr>\n",
       "      <th>4</th>\n",
       "      <td>1970-01-01 00:00:00.000201605</td>\n",
       "      <td>0.0</td>\n",
       "    </tr>\n",
       "    <tr>\n",
       "      <th>...</th>\n",
       "      <td>...</td>\n",
       "      <td>...</td>\n",
       "    </tr>\n",
       "    <tr>\n",
       "      <th>85</th>\n",
       "      <td>1970-01-01 00:00:00.000202302</td>\n",
       "      <td>1471.0</td>\n",
       "    </tr>\n",
       "    <tr>\n",
       "      <th>86</th>\n",
       "      <td>1970-01-01 00:00:00.000202303</td>\n",
       "      <td>704.0</td>\n",
       "    </tr>\n",
       "    <tr>\n",
       "      <th>87</th>\n",
       "      <td>1970-01-01 00:00:00.000202304</td>\n",
       "      <td>1134.0</td>\n",
       "    </tr>\n",
       "    <tr>\n",
       "      <th>88</th>\n",
       "      <td>1970-01-01 00:00:00.000202305</td>\n",
       "      <td>1381.0</td>\n",
       "    </tr>\n",
       "    <tr>\n",
       "      <th>89</th>\n",
       "      <td>1970-01-01 00:00:00.000202306</td>\n",
       "      <td>936.0</td>\n",
       "    </tr>\n",
       "  </tbody>\n",
       "</table>\n",
       "<p>90 rows × 2 columns</p>\n",
       "</div>"
      ],
      "text/plain": [
       "                            Year  No of Sales\n",
       "0  1970-01-01 00:00:00.000201601         50.0\n",
       "1  1970-01-01 00:00:00.000201602         10.0\n",
       "2  1970-01-01 00:00:00.000201603         21.0\n",
       "3  1970-01-01 00:00:00.000201604         81.0\n",
       "4  1970-01-01 00:00:00.000201605          0.0\n",
       "..                           ...          ...\n",
       "85 1970-01-01 00:00:00.000202302       1471.0\n",
       "86 1970-01-01 00:00:00.000202303        704.0\n",
       "87 1970-01-01 00:00:00.000202304       1134.0\n",
       "88 1970-01-01 00:00:00.000202305       1381.0\n",
       "89 1970-01-01 00:00:00.000202306        936.0\n",
       "\n",
       "[90 rows x 2 columns]"
      ]
     },
     "execution_count": 209,
     "metadata": {},
     "output_type": "execute_result"
    }
   ],
   "source": [
    "df"
   ]
  },
  {
   "cell_type": "markdown",
   "id": "a7e3e8a0",
   "metadata": {},
   "source": [
    "##### To see the data how is looking we have applied datatime but its not working so we decided the data should be int format."
   ]
  },
  {
   "cell_type": "code",
   "execution_count": 210,
   "id": "0e0fb003",
   "metadata": {},
   "outputs": [],
   "source": [
    "df['Year']=df['Year'].astype(int)"
   ]
  },
  {
   "cell_type": "code",
   "execution_count": 211,
   "id": "21597e06",
   "metadata": {},
   "outputs": [
    {
     "data": {
      "text/html": [
       "<div>\n",
       "<style scoped>\n",
       "    .dataframe tbody tr th:only-of-type {\n",
       "        vertical-align: middle;\n",
       "    }\n",
       "\n",
       "    .dataframe tbody tr th {\n",
       "        vertical-align: top;\n",
       "    }\n",
       "\n",
       "    .dataframe thead th {\n",
       "        text-align: right;\n",
       "    }\n",
       "</style>\n",
       "<table border=\"1\" class=\"dataframe\">\n",
       "  <thead>\n",
       "    <tr style=\"text-align: right;\">\n",
       "      <th></th>\n",
       "      <th>Year</th>\n",
       "      <th>No of Sales</th>\n",
       "    </tr>\n",
       "  </thead>\n",
       "  <tbody>\n",
       "    <tr>\n",
       "      <th>0</th>\n",
       "      <td>201601</td>\n",
       "      <td>50.0</td>\n",
       "    </tr>\n",
       "    <tr>\n",
       "      <th>1</th>\n",
       "      <td>201602</td>\n",
       "      <td>10.0</td>\n",
       "    </tr>\n",
       "    <tr>\n",
       "      <th>2</th>\n",
       "      <td>201603</td>\n",
       "      <td>21.0</td>\n",
       "    </tr>\n",
       "    <tr>\n",
       "      <th>3</th>\n",
       "      <td>201604</td>\n",
       "      <td>81.0</td>\n",
       "    </tr>\n",
       "    <tr>\n",
       "      <th>4</th>\n",
       "      <td>201605</td>\n",
       "      <td>0.0</td>\n",
       "    </tr>\n",
       "    <tr>\n",
       "      <th>...</th>\n",
       "      <td>...</td>\n",
       "      <td>...</td>\n",
       "    </tr>\n",
       "    <tr>\n",
       "      <th>85</th>\n",
       "      <td>202302</td>\n",
       "      <td>1471.0</td>\n",
       "    </tr>\n",
       "    <tr>\n",
       "      <th>86</th>\n",
       "      <td>202303</td>\n",
       "      <td>704.0</td>\n",
       "    </tr>\n",
       "    <tr>\n",
       "      <th>87</th>\n",
       "      <td>202304</td>\n",
       "      <td>1134.0</td>\n",
       "    </tr>\n",
       "    <tr>\n",
       "      <th>88</th>\n",
       "      <td>202305</td>\n",
       "      <td>1381.0</td>\n",
       "    </tr>\n",
       "    <tr>\n",
       "      <th>89</th>\n",
       "      <td>202306</td>\n",
       "      <td>936.0</td>\n",
       "    </tr>\n",
       "  </tbody>\n",
       "</table>\n",
       "<p>90 rows × 2 columns</p>\n",
       "</div>"
      ],
      "text/plain": [
       "      Year  No of Sales\n",
       "0   201601         50.0\n",
       "1   201602         10.0\n",
       "2   201603         21.0\n",
       "3   201604         81.0\n",
       "4   201605          0.0\n",
       "..     ...          ...\n",
       "85  202302       1471.0\n",
       "86  202303        704.0\n",
       "87  202304       1134.0\n",
       "88  202305       1381.0\n",
       "89  202306        936.0\n",
       "\n",
       "[90 rows x 2 columns]"
      ]
     },
     "execution_count": 211,
     "metadata": {},
     "output_type": "execute_result"
    }
   ],
   "source": [
    "df"
   ]
  },
  {
   "cell_type": "code",
   "execution_count": 212,
   "id": "702e3be8",
   "metadata": {},
   "outputs": [],
   "source": [
    "monthly_sales = df.groupby('Year').sum().reset_index()"
   ]
  },
  {
   "cell_type": "code",
   "execution_count": 213,
   "id": "fb18d32a",
   "metadata": {},
   "outputs": [
    {
     "data": {
      "text/html": [
       "<div>\n",
       "<style scoped>\n",
       "    .dataframe tbody tr th:only-of-type {\n",
       "        vertical-align: middle;\n",
       "    }\n",
       "\n",
       "    .dataframe tbody tr th {\n",
       "        vertical-align: top;\n",
       "    }\n",
       "\n",
       "    .dataframe thead th {\n",
       "        text-align: right;\n",
       "    }\n",
       "</style>\n",
       "<table border=\"1\" class=\"dataframe\">\n",
       "  <thead>\n",
       "    <tr style=\"text-align: right;\">\n",
       "      <th></th>\n",
       "      <th>Year</th>\n",
       "      <th>No of Sales</th>\n",
       "    </tr>\n",
       "  </thead>\n",
       "  <tbody>\n",
       "    <tr>\n",
       "      <th>0</th>\n",
       "      <td>201601</td>\n",
       "      <td>50.0</td>\n",
       "    </tr>\n",
       "    <tr>\n",
       "      <th>1</th>\n",
       "      <td>201602</td>\n",
       "      <td>10.0</td>\n",
       "    </tr>\n",
       "    <tr>\n",
       "      <th>2</th>\n",
       "      <td>201603</td>\n",
       "      <td>21.0</td>\n",
       "    </tr>\n",
       "    <tr>\n",
       "      <th>3</th>\n",
       "      <td>201604</td>\n",
       "      <td>81.0</td>\n",
       "    </tr>\n",
       "    <tr>\n",
       "      <th>4</th>\n",
       "      <td>201605</td>\n",
       "      <td>0.0</td>\n",
       "    </tr>\n",
       "  </tbody>\n",
       "</table>\n",
       "</div>"
      ],
      "text/plain": [
       "     Year  No of Sales\n",
       "0  201601         50.0\n",
       "1  201602         10.0\n",
       "2  201603         21.0\n",
       "3  201604         81.0\n",
       "4  201605          0.0"
      ]
     },
     "execution_count": 213,
     "metadata": {},
     "output_type": "execute_result"
    }
   ],
   "source": [
    "monthly_sales.head()"
   ]
  },
  {
   "cell_type": "code",
   "execution_count": 214,
   "id": "bd5b629e",
   "metadata": {},
   "outputs": [
    {
     "data": {
      "text/html": [
       "<div>\n",
       "<style scoped>\n",
       "    .dataframe tbody tr th:only-of-type {\n",
       "        vertical-align: middle;\n",
       "    }\n",
       "\n",
       "    .dataframe tbody tr th {\n",
       "        vertical-align: top;\n",
       "    }\n",
       "\n",
       "    .dataframe thead th {\n",
       "        text-align: right;\n",
       "    }\n",
       "</style>\n",
       "<table border=\"1\" class=\"dataframe\">\n",
       "  <thead>\n",
       "    <tr style=\"text-align: right;\">\n",
       "      <th></th>\n",
       "      <th>Year</th>\n",
       "      <th>No of Sales</th>\n",
       "    </tr>\n",
       "  </thead>\n",
       "  <tbody>\n",
       "    <tr>\n",
       "      <th>count</th>\n",
       "      <td>90.000000</td>\n",
       "      <td>90.000000</td>\n",
       "    </tr>\n",
       "    <tr>\n",
       "      <th>mean</th>\n",
       "      <td>201932.966667</td>\n",
       "      <td>515.388889</td>\n",
       "    </tr>\n",
       "    <tr>\n",
       "      <th>std</th>\n",
       "      <td>218.360307</td>\n",
       "      <td>616.187293</td>\n",
       "    </tr>\n",
       "    <tr>\n",
       "      <th>min</th>\n",
       "      <td>201601.000000</td>\n",
       "      <td>0.000000</td>\n",
       "    </tr>\n",
       "    <tr>\n",
       "      <th>25%</th>\n",
       "      <td>201711.250000</td>\n",
       "      <td>100.750000</td>\n",
       "    </tr>\n",
       "    <tr>\n",
       "      <th>50%</th>\n",
       "      <td>201909.500000</td>\n",
       "      <td>208.500000</td>\n",
       "    </tr>\n",
       "    <tr>\n",
       "      <th>75%</th>\n",
       "      <td>202107.750000</td>\n",
       "      <td>752.750000</td>\n",
       "    </tr>\n",
       "    <tr>\n",
       "      <th>max</th>\n",
       "      <td>202306.000000</td>\n",
       "      <td>2448.000000</td>\n",
       "    </tr>\n",
       "  </tbody>\n",
       "</table>\n",
       "</div>"
      ],
      "text/plain": [
       "                Year  No of Sales\n",
       "count      90.000000    90.000000\n",
       "mean   201932.966667   515.388889\n",
       "std       218.360307   616.187293\n",
       "min    201601.000000     0.000000\n",
       "25%    201711.250000   100.750000\n",
       "50%    201909.500000   208.500000\n",
       "75%    202107.750000   752.750000\n",
       "max    202306.000000  2448.000000"
      ]
     },
     "execution_count": 214,
     "metadata": {},
     "output_type": "execute_result"
    }
   ],
   "source": [
    "df.describe()"
   ]
  },
  {
   "cell_type": "markdown",
   "id": "529d487e",
   "metadata": {},
   "source": [
    "#1.As we can see in the data that in sales the max 2448 sales have been done in the company.\n",
    "#2.The min is 0 \n",
    "3#.The median is 208\n",
    "4#In the year column the sale has started in 2016 first month till 2023 year june."
   ]
  },
  {
   "cell_type": "markdown",
   "id": "d4cecce7",
   "metadata": {},
   "source": [
    "### EDA"
   ]
  },
  {
   "cell_type": "code",
   "execution_count": 215,
   "id": "2cabd9a2",
   "metadata": {},
   "outputs": [
    {
     "data": {
      "image/png": "[encoded data removed]",
      "text/plain": [
       "<Figure size 432x288 with 1 Axes>"
      ]
     },
     "metadata": {
      "needs_background": "light"
     },
     "output_type": "display_data"
    }
   ],
   "source": [
    "No_of_Sales=df[\"No of Sales\"].hist(bins=60)\n",
    "mean_val=np.mean(df[\"No of Sales\"])\n",
    "plt.axvline(mean_val,linewidth=4,color=\"red\",label=\"mean No of Sales\")\n",
    "plt.xlabel(\"No of Sales\")\n",
    "plt.ylabel(\"count\")\n",
    "plt.legend()\n",
    "plt.show()"
   ]
  },
  {
   "cell_type": "code",
   "execution_count": null,
   "id": "261124a4",
   "metadata": {},
   "outputs": [],
   "source": [
    "#We tried to take the mean of sale as we can see in the data its almost 500."
   ]
  },
  {
   "cell_type": "code",
   "execution_count": 216,
   "id": "919f7d81",
   "metadata": {},
   "outputs": [
    {
     "data": {
      "image/png": "[encoded data removed]",
      "text/plain": [
       "<Figure size 1296x576 with 1 Axes>"
      ]
     },
     "metadata": {
      "needs_background": "light"
     },
     "output_type": "display_data"
    }
   ],
   "source": [
    "\n",
    "plt.figure(figsize=(18,8))\n",
    "mean_Sales=np.mean(df[\"No of Sales\"])\n",
    "sns.boxplot(y=\"No of Sales\",x=\"Year\",data=df,palette=\"rainbow\")\n",
    "plt.axhline(mean_Sales,color=\"r\",linestyle=\"dashed\",linewidth=2)\n",
    "plt.title(\"Year vs No of Sales\",fontsize=30)\n",
    "plt.xticks(rotation=\"vertical\")\n",
    "plt.show()"
   ]
  },
  {
   "cell_type": "code",
   "execution_count": null,
   "id": "670faf7a",
   "metadata": {},
   "outputs": [],
   "source": [
    "#As i try to see data in boxplot but we did not get anything from visulization."
   ]
  },
  {
   "cell_type": "code",
   "execution_count": 217,
   "id": "fb32f57a",
   "metadata": {},
   "outputs": [
    {
     "data": {
      "image/png": "[encoded data removed]",
      "text/plain": [
       "<Figure size 432x288 with 1 Axes>"
      ]
     },
     "metadata": {
      "needs_background": "light"
     },
     "output_type": "display_data"
    }
   ],
   "source": [
    "#As we applied box plot for this we can see that the sale is very good in the year of 2017 to 2021\n",
    "sns.boxplot(df['Year'])\n",
    "plt.show()"
   ]
  },
  {
   "cell_type": "code",
   "execution_count": 218,
   "id": "1f335c18",
   "metadata": {},
   "outputs": [],
   "source": [
    "#checking corelation\n",
    "corr=df"
   ]
  },
  {
   "cell_type": "code",
   "execution_count": 219,
   "id": "085d8538",
   "metadata": {},
   "outputs": [
    {
     "data": {
      "text/html": [
       "<div>\n",
       "<style scoped>\n",
       "    .dataframe tbody tr th:only-of-type {\n",
       "        vertical-align: middle;\n",
       "    }\n",
       "\n",
       "    .dataframe tbody tr th {\n",
       "        vertical-align: top;\n",
       "    }\n",
       "\n",
       "    .dataframe thead th {\n",
       "        text-align: right;\n",
       "    }\n",
       "</style>\n",
       "<table border=\"1\" class=\"dataframe\">\n",
       "  <thead>\n",
       "    <tr style=\"text-align: right;\">\n",
       "      <th></th>\n",
       "      <th>Year</th>\n",
       "      <th>No of Sales</th>\n",
       "    </tr>\n",
       "  </thead>\n",
       "  <tbody>\n",
       "    <tr>\n",
       "      <th>0</th>\n",
       "      <td>201601</td>\n",
       "      <td>50.0</td>\n",
       "    </tr>\n",
       "    <tr>\n",
       "      <th>1</th>\n",
       "      <td>201602</td>\n",
       "      <td>10.0</td>\n",
       "    </tr>\n",
       "    <tr>\n",
       "      <th>2</th>\n",
       "      <td>201603</td>\n",
       "      <td>21.0</td>\n",
       "    </tr>\n",
       "    <tr>\n",
       "      <th>3</th>\n",
       "      <td>201604</td>\n",
       "      <td>81.0</td>\n",
       "    </tr>\n",
       "    <tr>\n",
       "      <th>4</th>\n",
       "      <td>201605</td>\n",
       "      <td>0.0</td>\n",
       "    </tr>\n",
       "    <tr>\n",
       "      <th>...</th>\n",
       "      <td>...</td>\n",
       "      <td>...</td>\n",
       "    </tr>\n",
       "    <tr>\n",
       "      <th>85</th>\n",
       "      <td>202302</td>\n",
       "      <td>1471.0</td>\n",
       "    </tr>\n",
       "    <tr>\n",
       "      <th>86</th>\n",
       "      <td>202303</td>\n",
       "      <td>704.0</td>\n",
       "    </tr>\n",
       "    <tr>\n",
       "      <th>87</th>\n",
       "      <td>202304</td>\n",
       "      <td>1134.0</td>\n",
       "    </tr>\n",
       "    <tr>\n",
       "      <th>88</th>\n",
       "      <td>202305</td>\n",
       "      <td>1381.0</td>\n",
       "    </tr>\n",
       "    <tr>\n",
       "      <th>89</th>\n",
       "      <td>202306</td>\n",
       "      <td>936.0</td>\n",
       "    </tr>\n",
       "  </tbody>\n",
       "</table>\n",
       "<p>90 rows × 2 columns</p>\n",
       "</div>"
      ],
      "text/plain": [
       "      Year  No of Sales\n",
       "0   201601         50.0\n",
       "1   201602         10.0\n",
       "2   201603         21.0\n",
       "3   201604         81.0\n",
       "4   201605          0.0\n",
       "..     ...          ...\n",
       "85  202302       1471.0\n",
       "86  202303        704.0\n",
       "87  202304       1134.0\n",
       "88  202305       1381.0\n",
       "89  202306        936.0\n",
       "\n",
       "[90 rows x 2 columns]"
      ]
     },
     "execution_count": 219,
     "metadata": {},
     "output_type": "execute_result"
    }
   ],
   "source": [
    "corr"
   ]
  },
  {
   "cell_type": "markdown",
   "id": "3054a313",
   "metadata": {},
   "source": [
    "### Checking Skewness"
   ]
  },
  {
   "cell_type": "code",
   "execution_count": 220,
   "id": "3e7e86ac",
   "metadata": {},
   "outputs": [
    {
     "data": {
      "text/plain": [
       "Year           0.040652\n",
       "No of Sales    1.424584\n",
       "dtype: float64"
      ]
     },
     "execution_count": 220,
     "metadata": {},
     "output_type": "execute_result"
    }
   ],
   "source": [
    "df.skew()"
   ]
  },
  {
   "cell_type": "code",
   "execution_count": 221,
   "id": "d6e2516a",
   "metadata": {},
   "outputs": [
    {
     "data": {
      "image/png": "[encoded data removed]",
      "text/plain": [
       "<Figure size 432x288 with 1 Axes>"
      ]
     },
     "metadata": {
      "needs_background": "light"
     },
     "output_type": "display_data"
    },
    {
     "data": {
      "image/png": "[encoded data removed]",
      "text/plain": [
       "<Figure size 432x288 with 1 Axes>"
      ]
     },
     "metadata": {
      "needs_background": "light"
     },
     "output_type": "display_data"
    }
   ],
   "source": [
    "for col in df.describe().columns:\n",
    "    sns.distplot(df[col],color=\"r\")\n",
    "    plt.show()"
   ]
  },
  {
   "cell_type": "markdown",
   "id": "a9aae9f4",
   "metadata": {},
   "source": [
    "Remark:No of sales is out of skew, the range should be -0.5,+0.5 so i will not remove the skewness from sales data because it we can loss the data"
   ]
  },
  {
   "cell_type": "code",
   "execution_count": 222,
   "id": "ccd37a05",
   "metadata": {},
   "outputs": [],
   "source": [
    "#splitting the data into x and y ,x is independent data and y is dependent that is target variable\n",
    "x=df.drop(['No of Sales'],axis=1)\n",
    "y=df['No of Sales']"
   ]
  },
  {
   "cell_type": "code",
   "execution_count": 223,
   "id": "63a77ae7",
   "metadata": {},
   "outputs": [
    {
     "data": {
      "text/html": [
       "<div>\n",
       "<style scoped>\n",
       "    .dataframe tbody tr th:only-of-type {\n",
       "        vertical-align: middle;\n",
       "    }\n",
       "\n",
       "    .dataframe tbody tr th {\n",
       "        vertical-align: top;\n",
       "    }\n",
       "\n",
       "    .dataframe thead th {\n",
       "        text-align: right;\n",
       "    }\n",
       "</style>\n",
       "<table border=\"1\" class=\"dataframe\">\n",
       "  <thead>\n",
       "    <tr style=\"text-align: right;\">\n",
       "      <th></th>\n",
       "      <th>Year</th>\n",
       "    </tr>\n",
       "  </thead>\n",
       "  <tbody>\n",
       "    <tr>\n",
       "      <th>0</th>\n",
       "      <td>201601</td>\n",
       "    </tr>\n",
       "    <tr>\n",
       "      <th>1</th>\n",
       "      <td>201602</td>\n",
       "    </tr>\n",
       "    <tr>\n",
       "      <th>2</th>\n",
       "      <td>201603</td>\n",
       "    </tr>\n",
       "    <tr>\n",
       "      <th>3</th>\n",
       "      <td>201604</td>\n",
       "    </tr>\n",
       "    <tr>\n",
       "      <th>4</th>\n",
       "      <td>201605</td>\n",
       "    </tr>\n",
       "    <tr>\n",
       "      <th>...</th>\n",
       "      <td>...</td>\n",
       "    </tr>\n",
       "    <tr>\n",
       "      <th>85</th>\n",
       "      <td>202302</td>\n",
       "    </tr>\n",
       "    <tr>\n",
       "      <th>86</th>\n",
       "      <td>202303</td>\n",
       "    </tr>\n",
       "    <tr>\n",
       "      <th>87</th>\n",
       "      <td>202304</td>\n",
       "    </tr>\n",
       "    <tr>\n",
       "      <th>88</th>\n",
       "      <td>202305</td>\n",
       "    </tr>\n",
       "    <tr>\n",
       "      <th>89</th>\n",
       "      <td>202306</td>\n",
       "    </tr>\n",
       "  </tbody>\n",
       "</table>\n",
       "<p>90 rows × 1 columns</p>\n",
       "</div>"
      ],
      "text/plain": [
       "      Year\n",
       "0   201601\n",
       "1   201602\n",
       "2   201603\n",
       "3   201604\n",
       "4   201605\n",
       "..     ...\n",
       "85  202302\n",
       "86  202303\n",
       "87  202304\n",
       "88  202305\n",
       "89  202306\n",
       "\n",
       "[90 rows x 1 columns]"
      ]
     },
     "execution_count": 223,
     "metadata": {},
     "output_type": "execute_result"
    }
   ],
   "source": [
    "x"
   ]
  },
  {
   "cell_type": "code",
   "execution_count": 224,
   "id": "161a40fc",
   "metadata": {},
   "outputs": [
    {
     "data": {
      "text/plain": [
       "0       50.0\n",
       "1       10.0\n",
       "2       21.0\n",
       "3       81.0\n",
       "4        0.0\n",
       "       ...  \n",
       "85    1471.0\n",
       "86     704.0\n",
       "87    1134.0\n",
       "88    1381.0\n",
       "89     936.0\n",
       "Name: No of Sales, Length: 90, dtype: float64"
      ]
     },
     "execution_count": 224,
     "metadata": {},
     "output_type": "execute_result"
    }
   ],
   "source": [
    "y"
   ]
  },
  {
   "cell_type": "markdown",
   "id": "eafb26bb",
   "metadata": {},
   "source": [
    "### Now The Model for training and testing"
   ]
  },
  {
   "cell_type": "code",
   "execution_count": 227,
   "id": "0f48d2c4",
   "metadata": {},
   "outputs": [],
   "source": [
    "#Importing required libraries\n",
    "from sklearn.model_selection import train_test_split\n",
    "from sklearn.ensemble import RandomForestRegressor\n",
    "from sklearn.linear_model import LinearRegression\n",
    "from sklearn import metrics\n",
    "from sklearn.metrics import r2_score\n",
    "from sklearn.metrics import mean_absolute_error,mean_squared_error"
   ]
  },
  {
   "cell_type": "code",
   "execution_count": 228,
   "id": "d3d0f536",
   "metadata": {},
   "outputs": [],
   "source": [
    "from sklearn.model_selection import train_test_split\n",
    "x_train,x_test,y_train,y_test=train_test_split(x,y,test_size=.20,random_state=49)"
   ]
  },
  {
   "cell_type": "code",
   "execution_count": 231,
   "id": "de5578a1",
   "metadata": {},
   "outputs": [
    {
     "name": "stdout",
     "output_type": "stream",
     "text": [
      "\n",
      " Training Score: 89.84351199269764\n",
      "\n",
      " Testing Score: 93.43292568569055\n"
     ]
    }
   ],
   "source": [
    "rf=RandomForestRegressor()\n",
    "rf.fit(x,y)\n",
    "pred=rf.predict(x_train)\n",
    "y_pred=rf.predict(x_test)\n",
    "print('\\n Training Score:',metrics.r2_score(y_train,pred)*100)\n",
    "print('\\n Testing Score:',metrics.r2_score(y_test,y_pred)*100)\n"
   ]
  },
  {
   "cell_type": "code",
   "execution_count": 232,
   "id": "30f83f92",
   "metadata": {},
   "outputs": [],
   "source": [
    "train_accuracy=metrics.r2_score(y_train,pred)\n",
    "test_accuracy=metrics.r2_score(y_test,y_pred)"
   ]
  },
  {
   "cell_type": "code",
   "execution_count": 233,
   "id": "afaef3b5",
   "metadata": {},
   "outputs": [
    {
     "data": {
      "text/plain": [
       "78.05222222222223"
      ]
     },
     "execution_count": 233,
     "metadata": {},
     "output_type": "execute_result"
    }
   ],
   "source": [
    "mean_absolute_error(y_test,y_pred)"
   ]
  },
  {
   "cell_type": "code",
   "execution_count": 234,
   "id": "24254fbb",
   "metadata": {},
   "outputs": [
    {
     "data": {
      "text/plain": [
       "17317.581099999996"
      ]
     },
     "execution_count": 234,
     "metadata": {},
     "output_type": "execute_result"
    }
   ],
   "source": [
    "mean_squared_error(y_test,y_pred)"
   ]
  },
  {
   "cell_type": "code",
   "execution_count": 235,
   "id": "770e041b",
   "metadata": {},
   "outputs": [
    {
     "data": {
      "text/plain": [
       "131.59628072251888"
      ]
     },
     "execution_count": 235,
     "metadata": {},
     "output_type": "execute_result"
    }
   ],
   "source": [
    "np.sqrt(mean_squared_error(y_test,y_pred))"
   ]
  },
  {
   "cell_type": "markdown",
   "id": "6dcd342f",
   "metadata": {},
   "source": [
    "### Finding best Model"
   ]
  },
  {
   "cell_type": "code",
   "execution_count": 236,
   "id": "b8a6fa69",
   "metadata": {},
   "outputs": [
    {
     "data": {
      "image/png": "[encoded data removed]",
      "text/plain": [
       "<Figure size 576x432 with 1 Axes>"
      ]
     },
     "metadata": {
      "needs_background": "light"
     },
     "output_type": "display_data"
    }
   ],
   "source": [
    "#Plotting the best fit line\n",
    "plt.figure(figsize=(8,6))\n",
    "plt.scatter(x=y_test,y=y_pred,color='red')\n",
    "plt.plot(y_test,y_test,color='blue')\n",
    "plt.xlabel('Actual sale price',fontsize=10)\n",
    "plt.ylabel('Predicted sale price',fontsize=10)\n",
    "plt.show()"
   ]
  },
  {
   "cell_type": "code",
   "execution_count": 237,
   "id": "e3e5ced3",
   "metadata": {},
   "outputs": [],
   "source": [
    "#saving the model\n",
    "#Importing required libraries\n",
    "import pickle\n",
    "pickle.dump(rf,open('Sales Predict','wb'))"
   ]
  },
  {
   "cell_type": "code",
   "execution_count": 238,
   "id": "4ed297a5",
   "metadata": {},
   "outputs": [],
   "source": [
    "#Loading the saved model\n",
    "model=pickle.load(open('Sales Predict','rb'))"
   ]
  },
  {
   "cell_type": "code",
   "execution_count": 239,
   "id": "5a468f7e",
   "metadata": {},
   "outputs": [
    {
     "data": {
      "text/plain": [
       "array([  69.73,  728.53, 1332.17,  306.02,  143.86,   25.06,   39.86,\n",
       "       1117.94,   68.06,   67.29,  315.03, 1072.81, 1382.35,  169.51,\n",
       "       1327.94,  556.44,  109.83,   85.63])"
      ]
     },
     "execution_count": 239,
     "metadata": {},
     "output_type": "execute_result"
    }
   ],
   "source": [
    "#Prediction\n",
    "prediction=model.predict(x_test)\n",
    "prediction"
   ]
  },
  {
   "cell_type": "code",
   "execution_count": 240,
   "id": "5126d915",
   "metadata": {},
   "outputs": [
    {
     "data": {
      "text/html": [
       "<div>\n",
       "<style scoped>\n",
       "    .dataframe tbody tr th:only-of-type {\n",
       "        vertical-align: middle;\n",
       "    }\n",
       "\n",
       "    .dataframe tbody tr th {\n",
       "        vertical-align: top;\n",
       "    }\n",
       "\n",
       "    .dataframe thead th {\n",
       "        text-align: right;\n",
       "    }\n",
       "</style>\n",
       "<table border=\"1\" class=\"dataframe\">\n",
       "  <thead>\n",
       "    <tr style=\"text-align: right;\">\n",
       "      <th></th>\n",
       "      <th>0</th>\n",
       "      <th>1</th>\n",
       "      <th>2</th>\n",
       "      <th>3</th>\n",
       "      <th>4</th>\n",
       "      <th>5</th>\n",
       "      <th>6</th>\n",
       "      <th>7</th>\n",
       "      <th>8</th>\n",
       "      <th>9</th>\n",
       "      <th>10</th>\n",
       "      <th>11</th>\n",
       "      <th>12</th>\n",
       "      <th>13</th>\n",
       "      <th>14</th>\n",
       "      <th>15</th>\n",
       "      <th>16</th>\n",
       "      <th>17</th>\n",
       "    </tr>\n",
       "  </thead>\n",
       "  <tbody>\n",
       "    <tr>\n",
       "      <th>Predicted</th>\n",
       "      <td>69.73</td>\n",
       "      <td>728.53</td>\n",
       "      <td>1332.17</td>\n",
       "      <td>306.02</td>\n",
       "      <td>143.86</td>\n",
       "      <td>25.06</td>\n",
       "      <td>39.86</td>\n",
       "      <td>1117.94</td>\n",
       "      <td>68.06</td>\n",
       "      <td>67.29</td>\n",
       "      <td>315.03</td>\n",
       "      <td>1072.81</td>\n",
       "      <td>1382.35</td>\n",
       "      <td>169.51</td>\n",
       "      <td>1327.94</td>\n",
       "      <td>556.44</td>\n",
       "      <td>109.83</td>\n",
       "      <td>85.63</td>\n",
       "    </tr>\n",
       "    <tr>\n",
       "      <th>Actual</th>\n",
       "      <td>0.00</td>\n",
       "      <td>267.00</td>\n",
       "      <td>1227.00</td>\n",
       "      <td>415.00</td>\n",
       "      <td>147.00</td>\n",
       "      <td>10.00</td>\n",
       "      <td>50.00</td>\n",
       "      <td>1097.00</td>\n",
       "      <td>69.00</td>\n",
       "      <td>35.00</td>\n",
       "      <td>250.00</td>\n",
       "      <td>936.00</td>\n",
       "      <td>1460.00</td>\n",
       "      <td>198.00</td>\n",
       "      <td>1521.00</td>\n",
       "      <td>524.00</td>\n",
       "      <td>128.00</td>\n",
       "      <td>111.00</td>\n",
       "    </tr>\n",
       "  </tbody>\n",
       "</table>\n",
       "</div>"
      ],
      "text/plain": [
       "              0       1        2       3       4      5      6        7   \\\n",
       "Predicted  69.73  728.53  1332.17  306.02  143.86  25.06  39.86  1117.94   \n",
       "Actual      0.00  267.00  1227.00  415.00  147.00  10.00  50.00  1097.00   \n",
       "\n",
       "              8      9       10       11       12      13       14      15  \\\n",
       "Predicted  68.06  67.29  315.03  1072.81  1382.35  169.51  1327.94  556.44   \n",
       "Actual     69.00  35.00  250.00   936.00  1460.00  198.00  1521.00  524.00   \n",
       "\n",
       "               16      17  \n",
       "Predicted  109.83   85.63  \n",
       "Actual     128.00  111.00  "
      ]
     },
     "execution_count": 240,
     "metadata": {},
     "output_type": "execute_result"
    }
   ],
   "source": [
    "Predicted_sales_Price=pd.DataFrame([model.predict(x_test)[:],y_test[:]],index=['Predicted','Actual'])\n",
    "Predicted_sales_Price"
   ]
  },
  {
   "cell_type": "markdown",
   "id": "60734c1b",
   "metadata": {},
   "source": [
    "# Direct method"
   ]
  },
  {
   "cell_type": "code",
   "execution_count": 242,
   "id": "331a54e7",
   "metadata": {},
   "outputs": [],
   "source": [
    "lr=LinearRegression()"
   ]
  },
  {
   "cell_type": "code",
   "execution_count": 243,
   "id": "c65f58b5",
   "metadata": {},
   "outputs": [
    {
     "data": {
      "text/plain": [
       "LinearRegression()"
      ]
     },
     "execution_count": 243,
     "metadata": {},
     "output_type": "execute_result"
    }
   ],
   "source": [
    "lr.fit(x,y)"
   ]
  },
  {
   "cell_type": "code",
   "execution_count": 256,
   "id": "4366ba2f",
   "metadata": {},
   "outputs": [],
   "source": [
    "sales=lr.predict(x)"
   ]
  },
  {
   "cell_type": "code",
   "execution_count": 257,
   "id": "d5cf0d37",
   "metadata": {},
   "outputs": [
    {
     "name": "stdout",
     "output_type": "stream",
     "text": [
      "[  56.47522948   57.85763834   59.24004719   60.62245605   62.0048649\n",
      "   63.38727376   64.76968261   66.15209146   67.53450032   68.91690917\n",
      "   70.29931803   71.68172688  194.71611493  196.09852379  197.48093264\n",
      "  198.8633415   200.24575035  201.62815921  203.01056806  204.39297692\n",
      "  205.77538577  207.15779463  208.54020348  209.92261233  332.95700039\n",
      "  334.33940924  335.7218181   337.10422695  338.48663581  339.86904466\n",
      "  341.25145351  342.63386237  344.01627122  345.39868008  346.78108893\n",
      "  348.16349779  471.19788584  472.58029469  473.96270355  475.3451124\n",
      "  476.72752126  478.10993011  479.49233897  480.87474782  482.25715668\n",
      "  483.63956553  485.02197438  486.40438324  609.43877129  610.82118015\n",
      "  612.203589    613.58599786  614.96840671  616.35081556  617.73322442\n",
      "  619.11563327  620.49804213  621.88045098  623.26285984  624.64526869\n",
      "  747.67965674  749.0620656   750.44447445  751.82688331  753.20929216\n",
      "  754.59170102  755.97410987  757.35651873  758.73892758  760.12133643\n",
      "  761.50374529  762.88615414  885.9205422   887.30295105  888.68535991\n",
      "  890.06776876  891.45017761  892.83258647  894.21499532  895.59740418\n",
      "  896.97981303  898.36222189  899.74463074  901.1270396  1024.16142765\n",
      " 1025.5438365  1026.92624536 1028.30865421 1029.69106307 1031.07347192]\n"
     ]
    }
   ],
   "source": [
    "print(sales)"
   ]
  },
  {
   "cell_type": "code",
   "execution_count": 258,
   "id": "edd2a091",
   "metadata": {},
   "outputs": [
    {
     "data": {
      "text/html": [
       "<div>\n",
       "<style scoped>\n",
       "    .dataframe tbody tr th:only-of-type {\n",
       "        vertical-align: middle;\n",
       "    }\n",
       "\n",
       "    .dataframe tbody tr th {\n",
       "        vertical-align: top;\n",
       "    }\n",
       "\n",
       "    .dataframe thead th {\n",
       "        text-align: right;\n",
       "    }\n",
       "</style>\n",
       "<table border=\"1\" class=\"dataframe\">\n",
       "  <thead>\n",
       "    <tr style=\"text-align: right;\">\n",
       "      <th></th>\n",
       "      <th>0</th>\n",
       "      <th>1</th>\n",
       "      <th>2</th>\n",
       "      <th>3</th>\n",
       "      <th>4</th>\n",
       "      <th>5</th>\n",
       "      <th>6</th>\n",
       "      <th>7</th>\n",
       "      <th>8</th>\n",
       "      <th>9</th>\n",
       "      <th>...</th>\n",
       "      <th>80</th>\n",
       "      <th>81</th>\n",
       "      <th>82</th>\n",
       "      <th>83</th>\n",
       "      <th>84</th>\n",
       "      <th>85</th>\n",
       "      <th>86</th>\n",
       "      <th>87</th>\n",
       "      <th>88</th>\n",
       "      <th>89</th>\n",
       "    </tr>\n",
       "  </thead>\n",
       "  <tbody>\n",
       "    <tr>\n",
       "      <th>Actual</th>\n",
       "      <td>39.860000</td>\n",
       "      <td>25.060000</td>\n",
       "      <td>24.300000</td>\n",
       "      <td>61.570000</td>\n",
       "      <td>32.830000</td>\n",
       "      <td>94.150000</td>\n",
       "      <td>92.520000</td>\n",
       "      <td>73.370000</td>\n",
       "      <td>25.3200</td>\n",
       "      <td>65.670000</td>\n",
       "      <td>...</td>\n",
       "      <td>1294.600000</td>\n",
       "      <td>728.530000</td>\n",
       "      <td>546.510000</td>\n",
       "      <td>1517.59000</td>\n",
       "      <td>466.250000</td>\n",
       "      <td>1047.450000</td>\n",
       "      <td>919.930000</td>\n",
       "      <td>1055.800000</td>\n",
       "      <td>1287.430000</td>\n",
       "      <td>1072.810000</td>\n",
       "    </tr>\n",
       "    <tr>\n",
       "      <th>Predicted</th>\n",
       "      <td>56.475229</td>\n",
       "      <td>57.857638</td>\n",
       "      <td>59.240047</td>\n",
       "      <td>60.622456</td>\n",
       "      <td>62.004865</td>\n",
       "      <td>63.387274</td>\n",
       "      <td>64.769683</td>\n",
       "      <td>66.152091</td>\n",
       "      <td>67.5345</td>\n",
       "      <td>68.916909</td>\n",
       "      <td>...</td>\n",
       "      <td>896.979813</td>\n",
       "      <td>898.362222</td>\n",
       "      <td>899.744631</td>\n",
       "      <td>901.12704</td>\n",
       "      <td>1024.161428</td>\n",
       "      <td>1025.543837</td>\n",
       "      <td>1026.926245</td>\n",
       "      <td>1028.308654</td>\n",
       "      <td>1029.691063</td>\n",
       "      <td>1031.073472</td>\n",
       "    </tr>\n",
       "  </tbody>\n",
       "</table>\n",
       "<p>2 rows × 90 columns</p>\n",
       "</div>"
      ],
      "text/plain": [
       "                  0          1          2          3          4          5   \\\n",
       "Actual     39.860000  25.060000  24.300000  61.570000  32.830000  94.150000   \n",
       "Predicted  56.475229  57.857638  59.240047  60.622456  62.004865  63.387274   \n",
       "\n",
       "                  6          7        8          9   ...           80  \\\n",
       "Actual     92.520000  73.370000  25.3200  65.670000  ...  1294.600000   \n",
       "Predicted  64.769683  66.152091  67.5345  68.916909  ...   896.979813   \n",
       "\n",
       "                   81          82          83           84           85  \\\n",
       "Actual     728.530000  546.510000  1517.59000   466.250000  1047.450000   \n",
       "Predicted  898.362222  899.744631   901.12704  1024.161428  1025.543837   \n",
       "\n",
       "                    86           87           88           89  \n",
       "Actual      919.930000  1055.800000  1287.430000  1072.810000  \n",
       "Predicted  1026.926245  1028.308654  1029.691063  1031.073472  \n",
       "\n",
       "[2 rows x 90 columns]"
      ]
     },
     "execution_count": 258,
     "metadata": {},
     "output_type": "execute_result"
    }
   ],
   "source": [
    "#This are the predicted prices of the flight tickets\n",
    "Predicted_sale_Price=pd.DataFrame([model.predict(x)[:],sales[:]],index=['Actual','Predicted'])\n",
    "Predicted_sale_Price"
   ]
  },
  {
   "cell_type": "code",
   "execution_count": null,
   "id": "59dca676",
   "metadata": {},
   "outputs": [],
   "source": []
  }
 ],
 "metadata": {
  "kernelspec": {
   "display_name": "Python 3 (ipykernel)",
   "language": "python",
   "name": "python3"
  },
  "language_info": {
   "codemirror_mode": {
    "name": "ipython",
    "version": 3
   },
   "file_extension": ".py",
   "mimetype": "text/x-python",
   "name": "python",
   "nbconvert_exporter": "python",
   "pygments_lexer": "ipython3",
   "version": "3.9.7"
  }
 },
 "nbformat": 4,
 "nbformat_minor": 5
}
